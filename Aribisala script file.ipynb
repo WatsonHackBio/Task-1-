{
 "cells": [
  {
   "cell_type": "code",
   "execution_count": 5,
   "id": "a0302b7d",
   "metadata": {},
   "outputs": [
    {
     "name": "stdout",
     "output_type": "stream",
     "text": [
      "Name: Aribisala Jamiu Olaseni\n"
     ]
    }
   ],
   "source": [
    "print (\"Name: Aribisala Jamiu Olaseni\")"
   ]
  },
  {
   "cell_type": "code",
   "execution_count": 6,
   "id": "36d44e64",
   "metadata": {},
   "outputs": [
    {
     "name": "stdout",
     "output_type": "stream",
     "text": [
      "Email: jimexontop@gmail.com\n"
     ]
    }
   ],
   "source": [
    "print (\"Email: jimexontop@gmail.com\")"
   ]
  },
  {
   "cell_type": "code",
   "execution_count": 7,
   "id": "b33504da",
   "metadata": {},
   "outputs": [
    {
     "name": "stdout",
     "output_type": "stream",
     "text": [
      "Biostack: Drug Discovery\n"
     ]
    }
   ],
   "source": [
    "print (\"Biostack: Drug Discovery\")"
   ]
  },
  {
   "cell_type": "code",
   "execution_count": 8,
   "id": "b0b0bbde",
   "metadata": {},
   "outputs": [
    {
     "name": "stdout",
     "output_type": "stream",
     "text": [
      "Slackusername @Aribisala\n"
     ]
    }
   ],
   "source": [
    "print (\"Slackusername @Aribisala\")"
   ]
  },
  {
   "cell_type": "code",
   "execution_count": 9,
   "id": "2353d9cc",
   "metadata": {},
   "outputs": [
    {
     "name": "stdout",
     "output_type": "stream",
     "text": [
      "Twitter handle: @jamiu_olaseni\n"
     ]
    }
   ],
   "source": [
    "print (\"Twitter handle: @jamiu_olaseni\")"
   ]
  },
  {
   "cell_type": "code",
   "execution_count": null,
   "id": "4b3e9f10",
   "metadata": {},
   "outputs": [],
   "source": []
  }
 ],
 "metadata": {
  "kernelspec": {
   "display_name": "Python 3",
   "language": "python",
   "name": "python3"
  },
  "language_info": {
   "codemirror_mode": {
    "name": "ipython",
    "version": 3
   },
   "file_extension": ".py",
   "mimetype": "text/x-python",
   "name": "python",
   "nbconvert_exporter": "python",
   "pygments_lexer": "ipython3",
   "version": "3.8.8"
  }
 },
 "nbformat": 4,
 "nbformat_minor": 5
}
